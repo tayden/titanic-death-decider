﻿{
 "metadata": {
  "kernelspec": {
   "display_name": "Python 3",
   "language": "python",
   "name": "python3"
  },
  "language_info": {
   "codemirror_mode": {
    "name": "ipython",
    "version": 3
   },
   "file_extension": ".py",
   "mimetype": "text/x-python",
   "name": "python",
   "nbconvert_exporter": "python",
   "pygments_lexer": "ipython3",
   "version": "3.5.2"
  }
 },
 "nbformat": 4,
 "nbformat_minor": 0,
 "cells": [
  {
   "cell_type": "markdown",
   "source": "First the data is loaded into Pandas data frames",
   "metadata": {}
  },
  {
   "cell_type": "code",
   "source": "import numpy as np\nimport pandas as pd # data processing, CSV file I/O (e.g. pd.read_csv)\n\n# Read the input datasets\ntrain_data = pd.read_csv('../input/train.csv')\ntest_data = pd.read_csv('../input/test.csv')\n\n# Fill missing numeric values with median for that column\ntrain_data['Age'].fillna(train_data['Age'].mean(), inplace=True)\ntest_data['Age'].fillna(test_data['Age'].mean(), inplace=True)\ntest_data['Fare'].fillna(test_data['Fare'].mean(), inplace=True)\n\nprint(train_data.info())\nprint(test_data.info())",
   "execution_count": 1,
   "outputs": [
    {
     "name": "stdout",
     "output_type": "stream",
     "text": "<class 'pandas.core.frame.DataFrame'>\nRangeIndex: 891 entries, 0 to 890\nData columns (total 12 columns):\nPassengerId    891 non-null int64\nSurvived       891 non-null int64\nPclass         891 non-null int64\nName           891 non-null object\nSex            891 non-null object\nAge            891 non-null float64\nSibSp          891 non-null int64\nParch          891 non-null int64\nTicket         891 non-null object\nFare           891 non-null float64\nCabin          204 non-null object\nEmbarked       889 non-null object\ndtypes: float64(2), int64(5), object(5)\nmemory usage: 83.6+ KB\nNone\n<class 'pandas.core.frame.DataFrame'>\nRangeIndex: 418 entries, 0 to 417\nData columns (total 11 columns):\nPassengerId    418 non-null int64\nPclass         418 non-null int64\nName           418 non-null object\nSex            418 non-null object\nAge            418 non-null float64\nSibSp          418 non-null int64\nParch          418 non-null int64\nTicket         418 non-null object\nFare           418 non-null float64\nCabin          91 non-null object\nEmbarked       418 non-null object\ndtypes: float64(2), int64(4), object(5)\nmemory usage: 36.0+ KB\nNone\n"
    }
   ],
   "metadata": {}
  },
  {
   "cell_type": "markdown",
   "source": "Next select a subset of our train_data to use for training the model",
   "metadata": {}
  },
  {
   "cell_type": "code",
   "source": "# Encode sex as int 0=female, 1=male\ntrain_data['Sex'] = train_data['Sex'].apply(lambda x: int(x == 'male'))\n\n# Extract pclass, sex, age, fare features\nX = train_data[['Pclass', 'Sex', 'Age', 'Fare']].as_matrix()\nprint(np.shape(X))\n\n# Extract survival target\ny = train_data[['Survived']].values.ravel()\nprint(np.shape(y))",
   "execution_count": 2,
   "outputs": [
    {
     "name": "stdout",
     "output_type": "stream",
     "text": "(891, 4)\n(891,)\n"
    }
   ],
   "metadata": {}
  },
  {
   "cell_type": "markdown",
   "source": "Now train the Random forest classifier and get validation accuracy using K-Folds cross validation",
   "metadata": {}
  },
  {
   "cell_type": "code",
   "source": "from sklearn.ensemble import RandomForestClassifier\nfrom sklearn.model_selection import KFold, cross_val_score\n\n# Build the classifier\nkf = KFold(n_splits=3)\nmodel = RandomForestClassifier()\nscores = [\n    model.fit(X[train], y[train]).score(X[test], y[test])\n    for train, test in kf.split(X)\n]\n    \nprint(\"Mean 3-fold cross validation accuracy: %s\" % np.mean(scores))",
   "execution_count": 17,
   "outputs": [
    {
     "name": "stdout",
     "output_type": "stream",
     "text": "Mean 3-fold cross validation accuracy: 0.786756453423\n"
    }
   ],
   "metadata": {}
  },
  {
   "cell_type": "markdown",
   "source": "Make predictions on the test data and output the results",
   "metadata": {}
  },
  {
   "cell_type": "code",
   "source": "# Create model with all training data\nclassifier = model.fit(X, y)\n\n# Encode sex as int 0=female, 1=male\ntest_data['Sex'] = test_data['Sex'].apply(lambda x: int(x == 'male'))\n\n# Extract pclass, sex, age, fare features\nX_ = test_data[['Pclass', 'Sex', 'Age', 'Fare']].as_matrix()\n\n# Predict if passengers survived using model\ny_ = classifier.predict(X_)\n\n# Append the survived attribute to the test data\ntest_data['Survived'] = y_\npredictions = test_data[['PassengerId', 'Survived']]\nprint(predictions)\n\n# Save the output for submission\npredictions.to_csv('submission.csv', index=False)",
   "execution_count": 4,
   "outputs": [],
   "metadata": {}
  }
 ]
}