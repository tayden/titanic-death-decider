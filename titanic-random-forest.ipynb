{
 "cells": [
  {
   "cell_type": "code",
   "execution_count": 100,
   "metadata": {
    "collapsed": false
   },
   "outputs": [
    {
     "name": "stdout",
     "output_type": "stream",
     "text": [
      "[['1.0' '1' '38' '71']\n",
      " ['3.0' '1' '26' '7']\n",
      " ['1.0' '1' '35' '53']\n",
      " ['3.0' '0' '35' '8']]\n",
      "[ True  True  True False]\n"
     ]
    }
   ],
   "source": [
    "import csv\n",
    "import numpy as np\n",
    "\n",
    "# Load the training and test datasets\n",
    "def load_titanic_dataset(filename):\n",
    "    with open(filename, 'r') as data_file:\n",
    "        reader = csv.reader(data_file)\n",
    "        data = [x for x in reader]\n",
    "        # remove header row\n",
    "        data = data[1:]\n",
    "    return data\n",
    "\n",
    "# PassengerId,Survived,Pclass,Name,Sex,Age,SibSp,Parch,Ticket,Fare,Cabin,Embarked\n",
    "train_data = load_titanic_dataset('train.csv')\n",
    "\n",
    "# Extract pclass, sex, age, fare features\n",
    "X = np.array([\n",
    "    [float((x[2])), x[4], int(float(x[5])), int(float(x[9]))]  # floats -> ints reduces data noise\n",
    "    for x in train_data\n",
    "    if x[5] != ''  # throwaway if missing age\n",
    "])\n",
    "\n",
    "# Encode sex as int\n",
    "for d in X:\n",
    "    if d[1] == 'male':\n",
    "        d[1] = 0\n",
    "    else:\n",
    "        d[1] = 1\n",
    "\n",
    "\n",
    "# Extract survival target\n",
    "y = np.array([bool(int(x[1])) for x in train_data if x[5] != ''])\n",
    "\n",
    "print X[1:5]\n",
    "print y[1:5]"
   ]
  },
  {
   "cell_type": "code",
   "execution_count": 124,
   "metadata": {
    "collapsed": false
   },
   "outputs": [
    {
     "name": "stdout",
     "output_type": "stream",
     "text": [
      "Mean 10-fold cross validation accuracy: 0.809487480438\n"
     ]
    }
   ],
   "source": [
    "from sklearn.ensemble import RandomForestClassifier\n",
    "from sklearn.model_selection import KFold, cross_val_score\n",
    "\n",
    "# Build the classifier\n",
    "kf = KFold(n_splits=10, shuffle=True)\n",
    "model = RandomForestClassifier()\n",
    "scores = [\n",
    "    model.fit(X[train], y[train]).score(X[test], y[test])\n",
    "    for train, test in kf.split(X)\n",
    "]\n",
    "    \n",
    "print(\"Mean 10-fold cross validation accuracy: %s\" % np.mean(scores))\n"
   ]
  },
  {
   "cell_type": "code",
   "execution_count": 125,
   "metadata": {
    "collapsed": false
   },
   "outputs": [
    {
     "name": "stdout",
     "output_type": "stream",
     "text": [
      "[['3' '1' '47' '7']\n",
      " ['2' '0' '62' '9']\n",
      " ['3' '0' '27' '8']\n",
      " ['3' '1' '22' '12']]\n",
      "[False False False  True]\n"
     ]
    }
   ],
   "source": [
    "# Create model with all training data\n",
    "classifier = model.fit(X, y)\n",
    "\n",
    "# Predict values for the test set\n",
    "test_data = load_titanic_dataset('test.csv')\n",
    "test_data = np.array([\n",
    "    [int(float(x[1])), x[3], int(float(x[4])), int(float(x[8]))]  # floats -> ints reduces data noise\n",
    "    for x in test_data\n",
    "    if x[4] != '' and x[8] != ''  # throwaway if missing age or sex\n",
    "])\n",
    "\n",
    "# Encode sex as int\n",
    "for d in test_data:\n",
    "    if d[1] == 'male':\n",
    "        d[1] = 0\n",
    "    else:\n",
    "        d[1] = 1\n",
    "\n",
    "print test_data[1:5]\n",
    "print classifier.predict(test_data[1:5])\n"
   ]
  },
  {
   "cell_type": "code",
   "execution_count": null,
   "metadata": {
    "collapsed": true
   },
   "outputs": [],
   "source": []
  }
 ],
 "metadata": {
  "kernelspec": {
   "display_name": "Python 2",
   "language": "python",
   "name": "python2"
  },
  "language_info": {
   "codemirror_mode": {
    "name": "ipython",
    "version": 2
   },
   "file_extension": ".py",
   "mimetype": "text/x-python",
   "name": "python",
   "nbconvert_exporter": "python",
   "pygments_lexer": "ipython2",
   "version": "2.7.10"
  }
 },
 "nbformat": 4,
 "nbformat_minor": 1
}
