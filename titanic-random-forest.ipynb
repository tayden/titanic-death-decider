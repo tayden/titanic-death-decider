{
 "cells": [
  {
   "cell_type": "markdown",
   "metadata": {},
   "source": [
    "First the data is loaded into Pandas data frames"
   ]
  },
  {
   "cell_type": "code",
   "execution_count": 1,
   "metadata": {
    "collapsed": false
   },
   "outputs": [
    {
     "name": "stdout",
     "output_type": "stream",
     "text": [
      "[['1' '1' '38' '71']\n",
      " ['3' '1' '26' '7']\n",
      " ['1' '1' '35' '53']\n",
      " ['3' '0' '35' '8']]\n",
      "[ True  True  True False]\n"
     ]
    }
   ],
   "source": [
    "import numpy as np\n",
    "import pandas as pd # data processing, CSV file I/O (e.g. pd.read_csv)\n",
    "\n",
    "# Read the input datasets\n",
    "train_data = pd.read_csv('../input/train.csv')\n",
    "test_data = pd.read_csv('../input/test.csv')\n",
    "\n",
    "# Fill missing numeric values with mean for that column\n",
    "train_data['Age'].fillna(train_data['Age'].mean(), inplace=True)\n",
    "test_data['Age'].fillna(test_data['Age'].mean(), inplace=True)\n",
    "test_data['Fare'].fillna(test_data['Fare'].mean(), inplace=True)\n",
    "\n",
    "print(train_data.info())\n",
    "print(test_data.info())"
   ]
  },
  {
   "cell_type": "markdown",
   "metadata": {},
   "source": [
    "Next select a subset of our train_data to use for training the model"
   ]
  },
  {
   "cell_type": "code",
   "execution_count": 6,
   "metadata": {
    "collapsed": false
   },
   "outputs": [
    {
     "name": "stdout",
     "output_type": "stream",
     "text": [
      "Mean 10-fold cross validation accuracy: 0.82210485133\n"
     ]
    }
   ],
   "source": [
    "# Encode sex as int 0=female, 1=male\n",
    "train_data['Sex'] = train_data['Sex'].apply(lambda x: int(x == 'male'))\n",
    "\n",
    "# Extract pclass, sex, age, fare features\n",
    "X = train_data[['Pclass', 'Sex', 'Age', 'Fare']].as_matrix()\n",
    "print(np.shape(X))\n",
    "\n",
    "# Extract survival target\n",
    "y = train_data[['Survived']].values.ravel()\n",
    "print(np.shape(y))"
   ]
  },
  {
   "cell_type": "markdown",
   "metadata": {},
   "source": [
    "Now train the Random forest classifier and get validation accuracy using K-Folds cross validation"
   ]
  },
  {
   "cell_type": "code",
   "execution_count": 7,
   "metadata": {
    "collapsed": false
   },
   "outputs": [
    {
     "name": "stdout",
     "output_type": "stream",
     "text": [
      "[['3' '1' '47' '7']\n",
      " ['2' '0' '62' '9']\n",
      " ['3' '0' '27' '8']\n",
      " ['3' '1' '22' '12']]\n",
      "[False  True False  True]\n"
     ]
    }
   ],
   "source": [
    "from sklearn.ensemble import RandomForestClassifier\n",
    "from sklearn.model_selection import KFold, cross_val_score\n",
    "\n",
    "# Build the classifier\n",
    "kf = KFold(n_splits=3)\n",
    "model = RandomForestClassifier()\n",
    "scores = [\n",
    "    model.fit(X[train], y[train]).score(X[test], y[test])\n",
    "    for train, test in kf.split(X)\n",
    "]\n",
    "    \n",
    "print(\"Mean 3-fold cross validation accuracy: %s\" % np.mean(scores))"
   ]
  },
  {
   "cell_type": "markdown",
   "metadata": {
    "collapsed": true
   },
   "source": [
    "Make predictions on the test data and output the results"
   ]
  },
  {
   "cell_type": "code",
   "execution_count": null,
   "metadata": {
    "collapsed": true
   },
   "outputs": [],
   "source": [
    "# Create model with all training data\n",
    "classifier = model.fit(X, y)\n",
    "\n",
    "# Encode sex as int 0=female, 1=male\n",
    "test_data['Sex'] = test_data['Sex'].apply(lambda x: int(x == 'male'))\n",
    "\n",
    "# Extract pclass, sex, age, fare features\n",
    "X_ = test_data[['Pclass', 'Sex', 'Age', 'Fare']].as_matrix()\n",
    "\n",
    "# Predict if passengers survived using model\n",
    "y_ = classifier.predict(X_)\n",
    "\n",
    "# Append the survived attribute to the test data\n",
    "test_data['Survived'] = y_\n",
    "predictions = test_data[['PassengerId', 'Survived']]\n",
    "print(predictions)\n",
    "\n",
    "# Save the output for submission\n",
    "predictions.to_csv('submission.csv', index=False)"
   ]
  }
 ],
 "metadata": {
  "kernelspec": {
   "display_name": "Python 2",
   "language": "python",
   "name": "python2"
  },
  "language_info": {
   "codemirror_mode": {
    "name": "ipython",
    "version": 2
   },
   "file_extension": ".py",
   "mimetype": "text/x-python",
   "name": "python",
   "nbconvert_exporter": "python",
   "pygments_lexer": "ipython2",
   "version": "2.7.10"
  }
 },
 "nbformat": 4,
 "nbformat_minor": 1
}
